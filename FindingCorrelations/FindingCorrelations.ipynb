{
 "cells": [
  {
   "cell_type": "code",
   "execution_count": 1,
   "id": "1a43df35",
   "metadata": {},
   "outputs": [
    {
     "name": "stderr",
     "output_type": "stream",
     "text": [
      "C:\\Users\\DEKI_\\anaconda3\\lib\\site-packages\\scipy\\__init__.py:146: UserWarning: A NumPy version >=1.16.5 and <1.23.0 is required for this version of SciPy (detected version 1.23.3\n",
      "  warnings.warn(f\"A NumPy version >={np_minversion} and <{np_maxversion}\"\n"
     ]
    }
   ],
   "source": [
    "# Import libs\n",
    "\n",
    "import pandas as pd\n",
    "import numpy as np\n",
    "import seaborn as sns\n",
    "import matplotlib.pyplot as plt\n",
    "\n",
    "import matplotlib.mlab as mlab\n",
    "import matplotlib\n",
    "plt.style.use('ggplot')\n",
    "from matplotlib.pyplot import figure\n",
    "\n",
    "%matplotlib inline\n",
    "matplotlib.rcParams['figure.figsize'] = (12,8)\n"
   ]
  },
  {
   "cell_type": "code",
   "execution_count": 2,
   "id": "12a50539",
   "metadata": {},
   "outputs": [],
   "source": [
    "df = pd.read_csv(\"movies.csv\")"
   ]
  },
  {
   "cell_type": "code",
   "execution_count": 3,
   "id": "db492f6b",
   "metadata": {},
   "outputs": [
    {
     "data": {
      "text/html": [
       "<div>\n",
       "<style scoped>\n",
       "    .dataframe tbody tr th:only-of-type {\n",
       "        vertical-align: middle;\n",
       "    }\n",
       "\n",
       "    .dataframe tbody tr th {\n",
       "        vertical-align: top;\n",
       "    }\n",
       "\n",
       "    .dataframe thead th {\n",
       "        text-align: right;\n",
       "    }\n",
       "</style>\n",
       "<table border=\"1\" class=\"dataframe\">\n",
       "  <thead>\n",
       "    <tr style=\"text-align: right;\">\n",
       "      <th></th>\n",
       "      <th>name</th>\n",
       "      <th>rating</th>\n",
       "      <th>genre</th>\n",
       "      <th>year</th>\n",
       "      <th>released</th>\n",
       "      <th>score</th>\n",
       "      <th>votes</th>\n",
       "      <th>director</th>\n",
       "      <th>writer</th>\n",
       "      <th>star</th>\n",
       "      <th>country</th>\n",
       "      <th>budget</th>\n",
       "      <th>gross</th>\n",
       "      <th>company</th>\n",
       "      <th>runtime</th>\n",
       "    </tr>\n",
       "  </thead>\n",
       "  <tbody>\n",
       "    <tr>\n",
       "      <th>0</th>\n",
       "      <td>The Shining</td>\n",
       "      <td>R</td>\n",
       "      <td>Drama</td>\n",
       "      <td>1980</td>\n",
       "      <td>June 13, 1980 (United States)</td>\n",
       "      <td>8.4</td>\n",
       "      <td>927000.0</td>\n",
       "      <td>Stanley Kubrick</td>\n",
       "      <td>Stephen King</td>\n",
       "      <td>Jack Nicholson</td>\n",
       "      <td>United Kingdom</td>\n",
       "      <td>19000000.0</td>\n",
       "      <td>46998772.0</td>\n",
       "      <td>Warner Bros.</td>\n",
       "      <td>146.0</td>\n",
       "    </tr>\n",
       "    <tr>\n",
       "      <th>1</th>\n",
       "      <td>The Blue Lagoon</td>\n",
       "      <td>R</td>\n",
       "      <td>Adventure</td>\n",
       "      <td>1980</td>\n",
       "      <td>July 2, 1980 (United States)</td>\n",
       "      <td>5.8</td>\n",
       "      <td>65000.0</td>\n",
       "      <td>Randal Kleiser</td>\n",
       "      <td>Henry De Vere Stacpoole</td>\n",
       "      <td>Brooke Shields</td>\n",
       "      <td>United States</td>\n",
       "      <td>4500000.0</td>\n",
       "      <td>58853106.0</td>\n",
       "      <td>Columbia Pictures</td>\n",
       "      <td>104.0</td>\n",
       "    </tr>\n",
       "    <tr>\n",
       "      <th>2</th>\n",
       "      <td>Star Wars: Episode V - The Empire Strikes Back</td>\n",
       "      <td>PG</td>\n",
       "      <td>Action</td>\n",
       "      <td>1980</td>\n",
       "      <td>June 20, 1980 (United States)</td>\n",
       "      <td>8.7</td>\n",
       "      <td>1200000.0</td>\n",
       "      <td>Irvin Kershner</td>\n",
       "      <td>Leigh Brackett</td>\n",
       "      <td>Mark Hamill</td>\n",
       "      <td>United States</td>\n",
       "      <td>18000000.0</td>\n",
       "      <td>538375067.0</td>\n",
       "      <td>Lucasfilm</td>\n",
       "      <td>124.0</td>\n",
       "    </tr>\n",
       "    <tr>\n",
       "      <th>3</th>\n",
       "      <td>Airplane!</td>\n",
       "      <td>PG</td>\n",
       "      <td>Comedy</td>\n",
       "      <td>1980</td>\n",
       "      <td>July 2, 1980 (United States)</td>\n",
       "      <td>7.7</td>\n",
       "      <td>221000.0</td>\n",
       "      <td>Jim Abrahams</td>\n",
       "      <td>Jim Abrahams</td>\n",
       "      <td>Robert Hays</td>\n",
       "      <td>United States</td>\n",
       "      <td>3500000.0</td>\n",
       "      <td>83453539.0</td>\n",
       "      <td>Paramount Pictures</td>\n",
       "      <td>88.0</td>\n",
       "    </tr>\n",
       "    <tr>\n",
       "      <th>4</th>\n",
       "      <td>Caddyshack</td>\n",
       "      <td>R</td>\n",
       "      <td>Comedy</td>\n",
       "      <td>1980</td>\n",
       "      <td>July 25, 1980 (United States)</td>\n",
       "      <td>7.3</td>\n",
       "      <td>108000.0</td>\n",
       "      <td>Harold Ramis</td>\n",
       "      <td>Brian Doyle-Murray</td>\n",
       "      <td>Chevy Chase</td>\n",
       "      <td>United States</td>\n",
       "      <td>6000000.0</td>\n",
       "      <td>39846344.0</td>\n",
       "      <td>Orion Pictures</td>\n",
       "      <td>98.0</td>\n",
       "    </tr>\n",
       "  </tbody>\n",
       "</table>\n",
       "</div>"
      ],
      "text/plain": [
       "                                             name rating      genre  year  \\\n",
       "0                                     The Shining      R      Drama  1980   \n",
       "1                                 The Blue Lagoon      R  Adventure  1980   \n",
       "2  Star Wars: Episode V - The Empire Strikes Back     PG     Action  1980   \n",
       "3                                       Airplane!     PG     Comedy  1980   \n",
       "4                                      Caddyshack      R     Comedy  1980   \n",
       "\n",
       "                        released  score      votes         director  \\\n",
       "0  June 13, 1980 (United States)    8.4   927000.0  Stanley Kubrick   \n",
       "1   July 2, 1980 (United States)    5.8    65000.0   Randal Kleiser   \n",
       "2  June 20, 1980 (United States)    8.7  1200000.0   Irvin Kershner   \n",
       "3   July 2, 1980 (United States)    7.7   221000.0     Jim Abrahams   \n",
       "4  July 25, 1980 (United States)    7.3   108000.0     Harold Ramis   \n",
       "\n",
       "                    writer            star         country      budget  \\\n",
       "0             Stephen King  Jack Nicholson  United Kingdom  19000000.0   \n",
       "1  Henry De Vere Stacpoole  Brooke Shields   United States   4500000.0   \n",
       "2           Leigh Brackett     Mark Hamill   United States  18000000.0   \n",
       "3             Jim Abrahams     Robert Hays   United States   3500000.0   \n",
       "4       Brian Doyle-Murray     Chevy Chase   United States   6000000.0   \n",
       "\n",
       "         gross             company  runtime  \n",
       "0   46998772.0        Warner Bros.    146.0  \n",
       "1   58853106.0   Columbia Pictures    104.0  \n",
       "2  538375067.0           Lucasfilm    124.0  \n",
       "3   83453539.0  Paramount Pictures     88.0  \n",
       "4   39846344.0      Orion Pictures     98.0  "
      ]
     },
     "execution_count": 3,
     "metadata": {},
     "output_type": "execute_result"
    }
   ],
   "source": [
    "df.head()"
   ]
  },
  {
   "cell_type": "code",
   "execution_count": 4,
   "id": "f7464efc",
   "metadata": {},
   "outputs": [
    {
     "data": {
      "text/plain": [
       "name           0\n",
       "rating        77\n",
       "genre          0\n",
       "year           0\n",
       "released       2\n",
       "score          3\n",
       "votes          3\n",
       "director       0\n",
       "writer         3\n",
       "star           1\n",
       "country        3\n",
       "budget      2171\n",
       "gross        189\n",
       "company       17\n",
       "runtime        4\n",
       "dtype: int64"
      ]
     },
     "execution_count": 4,
     "metadata": {},
     "output_type": "execute_result"
    }
   ],
   "source": [
    "df.isnull().sum()"
   ]
  },
  {
   "cell_type": "code",
   "execution_count": 5,
   "id": "94eec712",
   "metadata": {},
   "outputs": [],
   "source": [
    "# Creating a function for missing values in percentage by each column.\n",
    "def print_missing_percentage(df):\n",
    "    \"\"\"\n",
    "    Print the percentage of missing values for each column in a DataFrame.\n",
    "\n",
    "    Args:\n",
    "        df (pd.DataFrame): The DataFrame to analyze.\n",
    "    \"\"\"\n",
    "    for col in df.columns:\n",
    "        pct_missing = np.mean(df[col].isnull())\n",
    "        print('{} - {:.2f}%'.format(col, float(pct_missing * 100)))\n"
   ]
  },
  {
   "cell_type": "code",
   "execution_count": 6,
   "id": "c28fbd9c",
   "metadata": {},
   "outputs": [
    {
     "name": "stdout",
     "output_type": "stream",
     "text": [
      "name - 0.00%\n",
      "rating - 1.00%\n",
      "genre - 0.00%\n",
      "year - 0.00%\n",
      "released - 0.03%\n",
      "score - 0.04%\n",
      "votes - 0.04%\n",
      "director - 0.00%\n",
      "writer - 0.04%\n",
      "star - 0.01%\n",
      "country - 0.04%\n",
      "budget - 28.31%\n",
      "gross - 2.46%\n",
      "company - 0.22%\n",
      "runtime - 0.05%\n"
     ]
    }
   ],
   "source": [
    "print_missing_percentage(df)"
   ]
  },
  {
   "cell_type": "code",
   "execution_count": 7,
   "id": "99d28978",
   "metadata": {},
   "outputs": [
    {
     "name": "stdout",
     "output_type": "stream",
     "text": [
      "<class 'pandas.core.frame.DataFrame'>\n",
      "Int64Index: 2171 entries, 16 to 7667\n",
      "Data columns (total 15 columns):\n",
      " #   Column    Non-Null Count  Dtype  \n",
      "---  ------    --------------  -----  \n",
      " 0   name      2171 non-null   object \n",
      " 1   rating    2114 non-null   object \n",
      " 2   genre     2171 non-null   object \n",
      " 3   year      2171 non-null   int64  \n",
      " 4   released  2169 non-null   object \n",
      " 5   score     2171 non-null   float64\n",
      " 6   votes     2171 non-null   float64\n",
      " 7   director  2171 non-null   object \n",
      " 8   writer    2168 non-null   object \n",
      " 9   star      2171 non-null   object \n",
      " 10  country   2169 non-null   object \n",
      " 11  budget    0 non-null      float64\n",
      " 12  gross     2043 non-null   float64\n",
      " 13  company   2160 non-null   object \n",
      " 14  runtime   2169 non-null   float64\n",
      "dtypes: float64(5), int64(1), object(9)\n",
      "memory usage: 271.4+ KB\n"
     ]
    }
   ],
   "source": [
    "# Display information about 'budget' = NA\n",
    "rows_with_na_budget = df[df['budget'].isna()]\n",
    "rows_with_na_budget.info()"
   ]
  },
  {
   "cell_type": "markdown",
   "id": "4cd6fbf1",
   "metadata": {},
   "source": [
    "&nbsp;\n",
    "\n",
    "## Handling Missing Data: Two Approaches in Two Dataframes\n",
    "\n",
    "We will transform our dataset into two separate dataframes. In one of them, we will implement the KNN algorithm to handle missing data in the 'budget' column, while the remaining NA values will be removed. In the other dataframe, we will simply eliminate all missing data.\n",
    "\n",
    "The reason I am opting for KNN is to assess whether there is a significant difference in the correlations and to check for any substantial biases in the results.\""
   ]
  },
  {
   "cell_type": "code",
   "execution_count": 8,
   "id": "d0dc56eb",
   "metadata": {},
   "outputs": [],
   "source": [
    "# Copy dataframe so i can check biases while im imputing missing values.\n",
    "df_KNN = df.copy()"
   ]
  },
  {
   "cell_type": "code",
   "execution_count": 9,
   "id": "13a85771",
   "metadata": {},
   "outputs": [],
   "source": [
    "df.dropna(inplace=True)\n"
   ]
  },
  {
   "cell_type": "code",
   "execution_count": 10,
   "id": "bf132a70",
   "metadata": {},
   "outputs": [],
   "source": [
    "from sklearn.impute import KNNImputer\n",
    "\n",
    "# Fill NA values with KNN \n",
    "imputer = KNNImputer(n_neighbors=5)\n",
    "df_KNN[\"budget\"] = imputer.fit_transform(df_KNN[\"budget\"].values.reshape(-1, 1))\n",
    "\n",
    "# Drop all other NA-values\n",
    "df_KNN.dropna(inplace=True)\n",
    "\n"
   ]
  },
  {
   "cell_type": "code",
   "execution_count": 11,
   "id": "be4c57b0",
   "metadata": {},
   "outputs": [
    {
     "name": "stdout",
     "output_type": "stream",
     "text": [
      "name - 0.00%\n",
      "rating - 0.00%\n",
      "genre - 0.00%\n",
      "year - 0.00%\n",
      "released - 0.00%\n",
      "score - 0.00%\n",
      "votes - 0.00%\n",
      "director - 0.00%\n",
      "writer - 0.00%\n",
      "star - 0.00%\n",
      "country - 0.00%\n",
      "budget - 0.00%\n",
      "gross - 0.00%\n",
      "company - 0.00%\n",
      "runtime - 0.00%\n"
     ]
    }
   ],
   "source": [
    "# Check how many percent of NA-values each columns have in df_KNN \n",
    "print_missing_percentage(df_KNN)"
   ]
  },
  {
   "cell_type": "code",
   "execution_count": 12,
   "id": "8b00a5fa",
   "metadata": {},
   "outputs": [
    {
     "name": "stdout",
     "output_type": "stream",
     "text": [
      "name - 0.00%\n",
      "rating - 0.00%\n",
      "genre - 0.00%\n",
      "year - 0.00%\n",
      "released - 0.00%\n",
      "score - 0.00%\n",
      "votes - 0.00%\n",
      "director - 0.00%\n",
      "writer - 0.00%\n",
      "star - 0.00%\n",
      "country - 0.00%\n",
      "budget - 0.00%\n",
      "gross - 0.00%\n",
      "company - 0.00%\n",
      "runtime - 0.00%\n"
     ]
    }
   ],
   "source": [
    "# Check how many percent of NA-values each columns have in df \n",
    "print_missing_percentage(df)"
   ]
  },
  {
   "cell_type": "code",
   "execution_count": 13,
   "id": "ada688c4",
   "metadata": {},
   "outputs": [
    {
     "name": "stdout",
     "output_type": "stream",
     "text": [
      "<class 'pandas.core.frame.DataFrame'>\n",
      "Int64Index: 7412 entries, 0 to 7659\n",
      "Data columns (total 15 columns):\n",
      " #   Column    Non-Null Count  Dtype  \n",
      "---  ------    --------------  -----  \n",
      " 0   name      7412 non-null   object \n",
      " 1   rating    7412 non-null   object \n",
      " 2   genre     7412 non-null   object \n",
      " 3   year      7412 non-null   int64  \n",
      " 4   released  7412 non-null   object \n",
      " 5   score     7412 non-null   float64\n",
      " 6   votes     7412 non-null   float64\n",
      " 7   director  7412 non-null   object \n",
      " 8   writer    7412 non-null   object \n",
      " 9   star      7412 non-null   object \n",
      " 10  country   7412 non-null   object \n",
      " 11  budget    7412 non-null   float64\n",
      " 12  gross     7412 non-null   float64\n",
      " 13  company   7412 non-null   object \n",
      " 14  runtime   7412 non-null   float64\n",
      "dtypes: float64(5), int64(1), object(9)\n",
      "memory usage: 926.5+ KB\n"
     ]
    }
   ],
   "source": [
    "df_KNN.info()"
   ]
  },
  {
   "cell_type": "code",
   "execution_count": 14,
   "id": "9bb47fa5",
   "metadata": {},
   "outputs": [
    {
     "name": "stdout",
     "output_type": "stream",
     "text": [
      "<class 'pandas.core.frame.DataFrame'>\n",
      "Int64Index: 5421 entries, 0 to 7652\n",
      "Data columns (total 15 columns):\n",
      " #   Column    Non-Null Count  Dtype  \n",
      "---  ------    --------------  -----  \n",
      " 0   name      5421 non-null   object \n",
      " 1   rating    5421 non-null   object \n",
      " 2   genre     5421 non-null   object \n",
      " 3   year      5421 non-null   int64  \n",
      " 4   released  5421 non-null   object \n",
      " 5   score     5421 non-null   float64\n",
      " 6   votes     5421 non-null   float64\n",
      " 7   director  5421 non-null   object \n",
      " 8   writer    5421 non-null   object \n",
      " 9   star      5421 non-null   object \n",
      " 10  country   5421 non-null   object \n",
      " 11  budget    5421 non-null   float64\n",
      " 12  gross     5421 non-null   float64\n",
      " 13  company   5421 non-null   object \n",
      " 14  runtime   5421 non-null   float64\n",
      "dtypes: float64(5), int64(1), object(9)\n",
      "memory usage: 677.6+ KB\n"
     ]
    }
   ],
   "source": [
    "df.info()"
   ]
  },
  {
   "cell_type": "markdown",
   "id": "b5965ce1",
   "metadata": {},
   "source": [
    "&nbsp;\n",
    "\n",
    "We now have two different dataframes. In one of them, we've utilized KNN to fill in all the missing values in the 'budget' column. In the other dataframe, we've simply removed all rows with missing data.\n",
    "&nbsp;\n",
    "## Changing datatypes in columnns"
   ]
  },
  {
   "cell_type": "code",
   "execution_count": 15,
   "id": "a05e526a",
   "metadata": {},
   "outputs": [],
   "source": [
    "# Change Data types of columns\n",
    "\n",
    "df['budget'] = df['budget'].astype('int64')\n",
    "df['gross'] = df['gross'].astype('int64')\n",
    "\n",
    "\n",
    "df_KNN['budget'] = df_KNN['budget'].astype('int64')\n",
    "df_KNN['gross'] = df_KNN['gross'].astype('int64')\n"
   ]
  },
  {
   "cell_type": "code",
   "execution_count": 16,
   "id": "e7a63363",
   "metadata": {},
   "outputs": [
    {
     "data": {
      "text/html": [
       "<div>\n",
       "<style scoped>\n",
       "    .dataframe tbody tr th:only-of-type {\n",
       "        vertical-align: middle;\n",
       "    }\n",
       "\n",
       "    .dataframe tbody tr th {\n",
       "        vertical-align: top;\n",
       "    }\n",
       "\n",
       "    .dataframe thead th {\n",
       "        text-align: right;\n",
       "    }\n",
       "</style>\n",
       "<table border=\"1\" class=\"dataframe\">\n",
       "  <thead>\n",
       "    <tr style=\"text-align: right;\">\n",
       "      <th></th>\n",
       "      <th>name</th>\n",
       "      <th>rating</th>\n",
       "      <th>genre</th>\n",
       "      <th>year</th>\n",
       "      <th>released</th>\n",
       "      <th>score</th>\n",
       "      <th>votes</th>\n",
       "      <th>director</th>\n",
       "      <th>writer</th>\n",
       "      <th>star</th>\n",
       "      <th>country</th>\n",
       "      <th>budget</th>\n",
       "      <th>gross</th>\n",
       "      <th>company</th>\n",
       "      <th>runtime</th>\n",
       "    </tr>\n",
       "  </thead>\n",
       "  <tbody>\n",
       "    <tr>\n",
       "      <th>5445</th>\n",
       "      <td>Avatar</td>\n",
       "      <td>PG-13</td>\n",
       "      <td>Action</td>\n",
       "      <td>2009</td>\n",
       "      <td>December 18, 2009 (United States)</td>\n",
       "      <td>7.8</td>\n",
       "      <td>1100000.0</td>\n",
       "      <td>James Cameron</td>\n",
       "      <td>James Cameron</td>\n",
       "      <td>Sam Worthington</td>\n",
       "      <td>United States</td>\n",
       "      <td>237000000</td>\n",
       "      <td>2847246203</td>\n",
       "      <td>Twentieth Century Fox</td>\n",
       "      <td>162.0</td>\n",
       "    </tr>\n",
       "    <tr>\n",
       "      <th>7445</th>\n",
       "      <td>Avengers: Endgame</td>\n",
       "      <td>PG-13</td>\n",
       "      <td>Action</td>\n",
       "      <td>2019</td>\n",
       "      <td>April 26, 2019 (United States)</td>\n",
       "      <td>8.4</td>\n",
       "      <td>903000.0</td>\n",
       "      <td>Anthony Russo</td>\n",
       "      <td>Christopher Markus</td>\n",
       "      <td>Robert Downey Jr.</td>\n",
       "      <td>United States</td>\n",
       "      <td>356000000</td>\n",
       "      <td>2797501328</td>\n",
       "      <td>Marvel Studios</td>\n",
       "      <td>181.0</td>\n",
       "    </tr>\n",
       "    <tr>\n",
       "      <th>3045</th>\n",
       "      <td>Titanic</td>\n",
       "      <td>PG-13</td>\n",
       "      <td>Drama</td>\n",
       "      <td>1997</td>\n",
       "      <td>December 19, 1997 (United States)</td>\n",
       "      <td>7.8</td>\n",
       "      <td>1100000.0</td>\n",
       "      <td>James Cameron</td>\n",
       "      <td>James Cameron</td>\n",
       "      <td>Leonardo DiCaprio</td>\n",
       "      <td>United States</td>\n",
       "      <td>200000000</td>\n",
       "      <td>2201647264</td>\n",
       "      <td>Twentieth Century Fox</td>\n",
       "      <td>194.0</td>\n",
       "    </tr>\n",
       "    <tr>\n",
       "      <th>6663</th>\n",
       "      <td>Star Wars: Episode VII - The Force Awakens</td>\n",
       "      <td>PG-13</td>\n",
       "      <td>Action</td>\n",
       "      <td>2015</td>\n",
       "      <td>December 18, 2015 (United States)</td>\n",
       "      <td>7.8</td>\n",
       "      <td>876000.0</td>\n",
       "      <td>J.J. Abrams</td>\n",
       "      <td>Lawrence Kasdan</td>\n",
       "      <td>Daisy Ridley</td>\n",
       "      <td>United States</td>\n",
       "      <td>245000000</td>\n",
       "      <td>2069521700</td>\n",
       "      <td>Lucasfilm</td>\n",
       "      <td>138.0</td>\n",
       "    </tr>\n",
       "    <tr>\n",
       "      <th>7244</th>\n",
       "      <td>Avengers: Infinity War</td>\n",
       "      <td>PG-13</td>\n",
       "      <td>Action</td>\n",
       "      <td>2018</td>\n",
       "      <td>April 27, 2018 (United States)</td>\n",
       "      <td>8.4</td>\n",
       "      <td>897000.0</td>\n",
       "      <td>Anthony Russo</td>\n",
       "      <td>Christopher Markus</td>\n",
       "      <td>Robert Downey Jr.</td>\n",
       "      <td>United States</td>\n",
       "      <td>321000000</td>\n",
       "      <td>2048359754</td>\n",
       "      <td>Marvel Studios</td>\n",
       "      <td>149.0</td>\n",
       "    </tr>\n",
       "  </tbody>\n",
       "</table>\n",
       "</div>"
      ],
      "text/plain": [
       "                                            name rating   genre  year  \\\n",
       "5445                                      Avatar  PG-13  Action  2009   \n",
       "7445                           Avengers: Endgame  PG-13  Action  2019   \n",
       "3045                                     Titanic  PG-13   Drama  1997   \n",
       "6663  Star Wars: Episode VII - The Force Awakens  PG-13  Action  2015   \n",
       "7244                      Avengers: Infinity War  PG-13  Action  2018   \n",
       "\n",
       "                               released  score      votes       director  \\\n",
       "5445  December 18, 2009 (United States)    7.8  1100000.0  James Cameron   \n",
       "7445     April 26, 2019 (United States)    8.4   903000.0  Anthony Russo   \n",
       "3045  December 19, 1997 (United States)    7.8  1100000.0  James Cameron   \n",
       "6663  December 18, 2015 (United States)    7.8   876000.0    J.J. Abrams   \n",
       "7244     April 27, 2018 (United States)    8.4   897000.0  Anthony Russo   \n",
       "\n",
       "                  writer               star        country     budget  \\\n",
       "5445       James Cameron    Sam Worthington  United States  237000000   \n",
       "7445  Christopher Markus  Robert Downey Jr.  United States  356000000   \n",
       "3045       James Cameron  Leonardo DiCaprio  United States  200000000   \n",
       "6663     Lawrence Kasdan       Daisy Ridley  United States  245000000   \n",
       "7244  Christopher Markus  Robert Downey Jr.  United States  321000000   \n",
       "\n",
       "           gross                company  runtime  \n",
       "5445  2847246203  Twentieth Century Fox    162.0  \n",
       "7445  2797501328         Marvel Studios    181.0  \n",
       "3045  2201647264  Twentieth Century Fox    194.0  \n",
       "6663  2069521700              Lucasfilm    138.0  \n",
       "7244  2048359754         Marvel Studios    149.0  "
      ]
     },
     "execution_count": 16,
     "metadata": {},
     "output_type": "execute_result"
    }
   ],
   "source": [
    "df_KNN.sort_values(by='gross', inplace=False, ascending=False).head()"
   ]
  },
  {
   "cell_type": "code",
   "execution_count": 17,
   "id": "4772cea8",
   "metadata": {
    "scrolled": true
   },
   "outputs": [
    {
     "data": {
      "text/html": [
       "<div>\n",
       "<style scoped>\n",
       "    .dataframe tbody tr th:only-of-type {\n",
       "        vertical-align: middle;\n",
       "    }\n",
       "\n",
       "    .dataframe tbody tr th {\n",
       "        vertical-align: top;\n",
       "    }\n",
       "\n",
       "    .dataframe thead th {\n",
       "        text-align: right;\n",
       "    }\n",
       "</style>\n",
       "<table border=\"1\" class=\"dataframe\">\n",
       "  <thead>\n",
       "    <tr style=\"text-align: right;\">\n",
       "      <th></th>\n",
       "      <th>name</th>\n",
       "      <th>rating</th>\n",
       "      <th>genre</th>\n",
       "      <th>year</th>\n",
       "      <th>released</th>\n",
       "      <th>score</th>\n",
       "      <th>votes</th>\n",
       "      <th>director</th>\n",
       "      <th>writer</th>\n",
       "      <th>star</th>\n",
       "      <th>country</th>\n",
       "      <th>budget</th>\n",
       "      <th>gross</th>\n",
       "      <th>company</th>\n",
       "      <th>runtime</th>\n",
       "    </tr>\n",
       "  </thead>\n",
       "  <tbody>\n",
       "    <tr>\n",
       "      <th>6688</th>\n",
       "      <td>Minions</td>\n",
       "      <td>PG</td>\n",
       "      <td>Animation</td>\n",
       "      <td>2015</td>\n",
       "      <td>July 10, 2015 (United States)</td>\n",
       "      <td>6.4</td>\n",
       "      <td>218000.0</td>\n",
       "      <td>Kyle Balda</td>\n",
       "      <td>Brian Lynch</td>\n",
       "      <td>Sandra Bullock</td>\n",
       "      <td>United States</td>\n",
       "      <td>74000000</td>\n",
       "      <td>1159444662</td>\n",
       "      <td>Illumination Entertainment</td>\n",
       "      <td>91.0</td>\n",
       "    </tr>\n",
       "    <tr>\n",
       "      <th>6846</th>\n",
       "      <td>Captain America: Civil War</td>\n",
       "      <td>PG-13</td>\n",
       "      <td>Action</td>\n",
       "      <td>2016</td>\n",
       "      <td>May 6, 2016 (United States)</td>\n",
       "      <td>7.8</td>\n",
       "      <td>694000.0</td>\n",
       "      <td>Anthony Russo</td>\n",
       "      <td>Christopher Markus</td>\n",
       "      <td>Chris Evans</td>\n",
       "      <td>United States</td>\n",
       "      <td>250000000</td>\n",
       "      <td>1153337496</td>\n",
       "      <td>Marvel Studios</td>\n",
       "      <td>147.0</td>\n",
       "    </tr>\n",
       "    <tr>\n",
       "      <th>7250</th>\n",
       "      <td>Aquaman</td>\n",
       "      <td>PG-13</td>\n",
       "      <td>Action</td>\n",
       "      <td>2018</td>\n",
       "      <td>December 21, 2018 (United States)</td>\n",
       "      <td>6.9</td>\n",
       "      <td>404000.0</td>\n",
       "      <td>James Wan</td>\n",
       "      <td>David Leslie Johnson-McGoldrick</td>\n",
       "      <td>Jason Momoa</td>\n",
       "      <td>United States</td>\n",
       "      <td>160000000</td>\n",
       "      <td>1148485886</td>\n",
       "      <td>Warner Bros.</td>\n",
       "      <td>143.0</td>\n",
       "    </tr>\n",
       "    <tr>\n",
       "      <th>4245</th>\n",
       "      <td>The Lord of the Rings: The Return of the King</td>\n",
       "      <td>PG-13</td>\n",
       "      <td>Action</td>\n",
       "      <td>2003</td>\n",
       "      <td>December 17, 2003 (United States)</td>\n",
       "      <td>8.9</td>\n",
       "      <td>1700000.0</td>\n",
       "      <td>Peter Jackson</td>\n",
       "      <td>J.R.R. Tolkien</td>\n",
       "      <td>Elijah Wood</td>\n",
       "      <td>New Zealand</td>\n",
       "      <td>94000000</td>\n",
       "      <td>1146030912</td>\n",
       "      <td>New Line Cinema</td>\n",
       "      <td>201.0</td>\n",
       "    </tr>\n",
       "    <tr>\n",
       "      <th>7458</th>\n",
       "      <td>Spider-Man: Far from Home</td>\n",
       "      <td>PG-13</td>\n",
       "      <td>Action</td>\n",
       "      <td>2019</td>\n",
       "      <td>July 2, 2019 (United States)</td>\n",
       "      <td>7.5</td>\n",
       "      <td>359000.0</td>\n",
       "      <td>Jon Watts</td>\n",
       "      <td>Chris McKenna</td>\n",
       "      <td>Tom Holland</td>\n",
       "      <td>United States</td>\n",
       "      <td>160000000</td>\n",
       "      <td>1131927996</td>\n",
       "      <td>Columbia Pictures</td>\n",
       "      <td>129.0</td>\n",
       "    </tr>\n",
       "  </tbody>\n",
       "</table>\n",
       "</div>"
      ],
      "text/plain": [
       "                                               name rating      genre  year  \\\n",
       "6688                                        Minions     PG  Animation  2015   \n",
       "6846                     Captain America: Civil War  PG-13     Action  2016   \n",
       "7250                                        Aquaman  PG-13     Action  2018   \n",
       "4245  The Lord of the Rings: The Return of the King  PG-13     Action  2003   \n",
       "7458                      Spider-Man: Far from Home  PG-13     Action  2019   \n",
       "\n",
       "                               released  score      votes       director  \\\n",
       "6688      July 10, 2015 (United States)    6.4   218000.0     Kyle Balda   \n",
       "6846        May 6, 2016 (United States)    7.8   694000.0  Anthony Russo   \n",
       "7250  December 21, 2018 (United States)    6.9   404000.0      James Wan   \n",
       "4245  December 17, 2003 (United States)    8.9  1700000.0  Peter Jackson   \n",
       "7458       July 2, 2019 (United States)    7.5   359000.0      Jon Watts   \n",
       "\n",
       "                               writer            star        country  \\\n",
       "6688                      Brian Lynch  Sandra Bullock  United States   \n",
       "6846               Christopher Markus     Chris Evans  United States   \n",
       "7250  David Leslie Johnson-McGoldrick     Jason Momoa  United States   \n",
       "4245                   J.R.R. Tolkien     Elijah Wood    New Zealand   \n",
       "7458                    Chris McKenna     Tom Holland  United States   \n",
       "\n",
       "         budget       gross                     company  runtime  \n",
       "6688   74000000  1159444662  Illumination Entertainment     91.0  \n",
       "6846  250000000  1153337496              Marvel Studios    147.0  \n",
       "7250  160000000  1148485886                Warner Bros.    143.0  \n",
       "4245   94000000  1146030912             New Line Cinema    201.0  \n",
       "7458  160000000  1131927996           Columbia Pictures    129.0  "
      ]
     },
     "execution_count": 17,
     "metadata": {},
     "output_type": "execute_result"
    }
   ],
   "source": [
    "df.sort_values(by='gross', inplace=False, ascending=False)[20:25]"
   ]
  },
  {
   "cell_type": "markdown",
   "id": "967db735",
   "metadata": {},
   "source": [
    "&nbsp;&nbsp;&nbsp;\n",
    "## Overwrite column by extracting data from another column\n",
    "\n",
    "Released year and year don't match up. Extract the year from the 'released' column and overwrite the data in the 'year' column."
   ]
  },
  {
   "cell_type": "code",
   "execution_count": 18,
   "id": "b6ece5b9",
   "metadata": {},
   "outputs": [
    {
     "data": {
      "text/plain": [
       "<bound method NDFrame.astype of 0           June 13, 1980 (United States)\n",
       "1            July 2, 1980 (United States)\n",
       "2           June 20, 1980 (United States)\n",
       "3            July 2, 1980 (United States)\n",
       "4           July 25, 1980 (United States)\n",
       "                      ...                \n",
       "7648     January 17, 2020 (United States)\n",
       "7649    February 14, 2020 (United States)\n",
       "7650     January 17, 2020 (United States)\n",
       "7651    February 21, 2020 (United States)\n",
       "7652      August 28, 2020 (United States)\n",
       "Name: released, Length: 5421, dtype: object>"
      ]
     },
     "execution_count": 18,
     "metadata": {},
     "output_type": "execute_result"
    }
   ],
   "source": [
    "df['released'].astype"
   ]
  },
  {
   "cell_type": "code",
   "execution_count": 19,
   "id": "5e3fa6e6",
   "metadata": {},
   "outputs": [
    {
     "data": {
      "text/plain": [
       "0           [June, 13,, 1980, (United, States)]\n",
       "1            [July, 2,, 1980, (United, States)]\n",
       "2           [June, 20,, 1980, (United, States)]\n",
       "3            [July, 2,, 1980, (United, States)]\n",
       "4           [July, 25,, 1980, (United, States)]\n",
       "                         ...                   \n",
       "7648     [January, 17,, 2020, (United, States)]\n",
       "7649    [February, 14,, 2020, (United, States)]\n",
       "7650     [January, 17,, 2020, (United, States)]\n",
       "7651    [February, 21,, 2020, (United, States)]\n",
       "7652      [August, 28,, 2020, (United, States)]\n",
       "Name: released, Length: 5421, dtype: object"
      ]
     },
     "execution_count": 19,
     "metadata": {},
     "output_type": "execute_result"
    }
   ],
   "source": [
    "df['released'].str.split().str[0:5]"
   ]
  },
  {
   "cell_type": "code",
   "execution_count": 20,
   "id": "b9da380b",
   "metadata": {},
   "outputs": [
    {
     "data": {
      "text/plain": [
       "0           June 13, 1980 (United States)\n",
       "1            July 2, 1980 (United States)\n",
       "2           June 20, 1980 (United States)\n",
       "3            July 2, 1980 (United States)\n",
       "4           July 25, 1980 (United States)\n",
       "                      ...                \n",
       "7648     January 17, 2020 (United States)\n",
       "7649    February 14, 2020 (United States)\n",
       "7650     January 17, 2020 (United States)\n",
       "7651    February 21, 2020 (United States)\n",
       "7652      August 28, 2020 (United States)\n",
       "Name: released, Length: 5421, dtype: object"
      ]
     },
     "execution_count": 20,
     "metadata": {},
     "output_type": "execute_result"
    }
   ],
   "source": [
    "df['released']"
   ]
  },
  {
   "cell_type": "code",
   "execution_count": 21,
   "id": "eee8a65d",
   "metadata": {},
   "outputs": [
    {
     "data": {
      "text/plain": [
       "0       1980\n",
       "1       1980\n",
       "2       1980\n",
       "3       1980\n",
       "4       1980\n",
       "        ... \n",
       "7648    2020\n",
       "7649    2020\n",
       "7650    2020\n",
       "7651    2020\n",
       "7652    2020\n",
       "Name: released, Length: 5421, dtype: object"
      ]
     },
     "execution_count": 21,
     "metadata": {},
     "output_type": "execute_result"
    }
   ],
   "source": [
    "df['released'].str.split().str[-3]"
   ]
  },
  {
   "cell_type": "code",
   "execution_count": 22,
   "id": "1662cf76",
   "metadata": {},
   "outputs": [],
   "source": [
    "df['year'] = df['released'].str.split().str[-3]\n",
    "df_KNN['year'] = df_KNN['released'].str.split().str[-3]"
   ]
  },
  {
   "cell_type": "code",
   "execution_count": 23,
   "id": "76a969da",
   "metadata": {},
   "outputs": [
    {
     "data": {
      "text/plain": [
       "0       1980\n",
       "1       1980\n",
       "2       1980\n",
       "3       1980\n",
       "4       1980\n",
       "        ... \n",
       "7648    2020\n",
       "7649    2020\n",
       "7650    2020\n",
       "7651    2020\n",
       "7652    2020\n",
       "Name: year, Length: 5421, dtype: object"
      ]
     },
     "execution_count": 23,
     "metadata": {},
     "output_type": "execute_result"
    }
   ],
   "source": [
    "df['year']"
   ]
  },
  {
   "cell_type": "code",
   "execution_count": 24,
   "id": "97b1f10c",
   "metadata": {},
   "outputs": [
    {
     "name": "stdout",
     "output_type": "stream",
     "text": [
      "<class 'pandas.core.frame.DataFrame'>\n",
      "Int64Index: 5421 entries, 0 to 7652\n",
      "Data columns (total 15 columns):\n",
      " #   Column    Non-Null Count  Dtype  \n",
      "---  ------    --------------  -----  \n",
      " 0   name      5421 non-null   object \n",
      " 1   rating    5421 non-null   object \n",
      " 2   genre     5421 non-null   object \n",
      " 3   year      5419 non-null   object \n",
      " 4   released  5421 non-null   object \n",
      " 5   score     5421 non-null   float64\n",
      " 6   votes     5421 non-null   float64\n",
      " 7   director  5421 non-null   object \n",
      " 8   writer    5421 non-null   object \n",
      " 9   star      5421 non-null   object \n",
      " 10  country   5421 non-null   object \n",
      " 11  budget    5421 non-null   int64  \n",
      " 12  gross     5421 non-null   int64  \n",
      " 13  company   5421 non-null   object \n",
      " 14  runtime   5421 non-null   float64\n",
      "dtypes: float64(3), int64(2), object(10)\n",
      "memory usage: 677.6+ KB\n"
     ]
    }
   ],
   "source": [
    "df.info()"
   ]
  },
  {
   "cell_type": "code",
   "execution_count": 25,
   "id": "f3e2cca2",
   "metadata": {},
   "outputs": [
    {
     "name": "stdout",
     "output_type": "stream",
     "text": [
      "<class 'pandas.core.frame.DataFrame'>\n",
      "Int64Index: 7412 entries, 0 to 7659\n",
      "Data columns (total 15 columns):\n",
      " #   Column    Non-Null Count  Dtype  \n",
      "---  ------    --------------  -----  \n",
      " 0   name      7412 non-null   object \n",
      " 1   rating    7412 non-null   object \n",
      " 2   genre     7412 non-null   object \n",
      " 3   year      7409 non-null   object \n",
      " 4   released  7412 non-null   object \n",
      " 5   score     7412 non-null   float64\n",
      " 6   votes     7412 non-null   float64\n",
      " 7   director  7412 non-null   object \n",
      " 8   writer    7412 non-null   object \n",
      " 9   star      7412 non-null   object \n",
      " 10  country   7412 non-null   object \n",
      " 11  budget    7412 non-null   int64  \n",
      " 12  gross     7412 non-null   int64  \n",
      " 13  company   7412 non-null   object \n",
      " 14  runtime   7412 non-null   float64\n",
      "dtypes: float64(3), int64(2), object(10)\n",
      "memory usage: 926.5+ KB\n"
     ]
    }
   ],
   "source": [
    "df_KNN.info()"
   ]
  },
  {
   "cell_type": "markdown",
   "id": "b51d3394",
   "metadata": {},
   "source": [
    "&nbsp;&nbsp;&nbsp;\n",
    "\n",
    "\n",
    "\n",
    "\n",
    "## Cleansing Data: Addressing Data Manipulation Issues with 'Year' Column Length\n",
    "\n",
    "\n",
    "\n",
    "\n",
    "Eliminating data from rows in which the 'year' column contains values longer than 4 characters, indicating an issue in the data manipulation process and drop any duplicates."
   ]
  },
  {
   "cell_type": "code",
   "execution_count": 26,
   "id": "304f3e4f",
   "metadata": {},
   "outputs": [
    {
     "name": "stdout",
     "output_type": "stream",
     "text": [
      "Count of rows with more than 4 characters in the 'year' column: 2\n"
     ]
    }
   ],
   "source": [
    "count = sum(df['year'].astype(str).str.len() > 4)\n",
    "print(f\"Count of rows with more than 4 characters in the 'year' column: {count}\")\n"
   ]
  },
  {
   "cell_type": "code",
   "execution_count": 27,
   "id": "3ab96c20",
   "metadata": {},
   "outputs": [
    {
     "name": "stdout",
     "output_type": "stream",
     "text": [
      "Row 4057 - Year November has more than 4 characters.\n",
      "Row 4361 - Year (United has more than 4 characters.\n"
     ]
    }
   ],
   "source": [
    "for index, year_value in enumerate(df['year']):\n",
    "    if len(str(year_value)) > 4:\n",
    "        print(f\"Row {index} - Year {year_value} has more than 4 characters.\")\n"
   ]
  },
  {
   "cell_type": "code",
   "execution_count": 28,
   "id": "46b367e2",
   "metadata": {},
   "outputs": [
    {
     "name": "stdout",
     "output_type": "stream",
     "text": [
      "Row 3184 - Year Republic has more than 4 characters.\n",
      "Row 5619 - Year November has more than 4 characters.\n",
      "Row 5743 - Year November has more than 4 characters.\n",
      "Row 5985 - Year (United has more than 4 characters.\n"
     ]
    }
   ],
   "source": [
    "for index, year_value in enumerate(df_KNN['year']):\n",
    "    if len(str(year_value)) > 4:\n",
    "        print(f\"Row {index} - Year {year_value} has more than 4 characters.\")"
   ]
  },
  {
   "cell_type": "code",
   "execution_count": 29,
   "id": "55cd2e53",
   "metadata": {},
   "outputs": [],
   "source": [
    "# Drop rows where contain\n",
    "mask = df['year'].str.len() > 4\n",
    "df = df[~mask]\n",
    "\n",
    "mask2 = df_KNN['year'].str.len() > 4\n",
    "df_KNN = df_KNN[~mask2]"
   ]
  },
  {
   "cell_type": "code",
   "execution_count": 30,
   "id": "b09b0e21",
   "metadata": {
    "scrolled": true
   },
   "outputs": [
    {
     "data": {
      "text/html": [
       "<div>\n",
       "<style scoped>\n",
       "    .dataframe tbody tr th:only-of-type {\n",
       "        vertical-align: middle;\n",
       "    }\n",
       "\n",
       "    .dataframe tbody tr th {\n",
       "        vertical-align: top;\n",
       "    }\n",
       "\n",
       "    .dataframe thead th {\n",
       "        text-align: right;\n",
       "    }\n",
       "</style>\n",
       "<table border=\"1\" class=\"dataframe\">\n",
       "  <thead>\n",
       "    <tr style=\"text-align: right;\">\n",
       "      <th></th>\n",
       "      <th>name</th>\n",
       "      <th>rating</th>\n",
       "      <th>genre</th>\n",
       "      <th>year</th>\n",
       "      <th>released</th>\n",
       "      <th>score</th>\n",
       "      <th>votes</th>\n",
       "      <th>director</th>\n",
       "      <th>writer</th>\n",
       "      <th>star</th>\n",
       "      <th>country</th>\n",
       "      <th>budget</th>\n",
       "      <th>gross</th>\n",
       "      <th>company</th>\n",
       "      <th>runtime</th>\n",
       "    </tr>\n",
       "  </thead>\n",
       "  <tbody>\n",
       "    <tr>\n",
       "      <th>0</th>\n",
       "      <td>The Shining</td>\n",
       "      <td>R</td>\n",
       "      <td>Drama</td>\n",
       "      <td>1980</td>\n",
       "      <td>June 13, 1980 (United States)</td>\n",
       "      <td>8.4</td>\n",
       "      <td>927000.0</td>\n",
       "      <td>Stanley Kubrick</td>\n",
       "      <td>Stephen King</td>\n",
       "      <td>Jack Nicholson</td>\n",
       "      <td>United Kingdom</td>\n",
       "      <td>19000000</td>\n",
       "      <td>46998772</td>\n",
       "      <td>Warner Bros.</td>\n",
       "      <td>146.0</td>\n",
       "    </tr>\n",
       "    <tr>\n",
       "      <th>1</th>\n",
       "      <td>The Blue Lagoon</td>\n",
       "      <td>R</td>\n",
       "      <td>Adventure</td>\n",
       "      <td>1980</td>\n",
       "      <td>July 2, 1980 (United States)</td>\n",
       "      <td>5.8</td>\n",
       "      <td>65000.0</td>\n",
       "      <td>Randal Kleiser</td>\n",
       "      <td>Henry De Vere Stacpoole</td>\n",
       "      <td>Brooke Shields</td>\n",
       "      <td>United States</td>\n",
       "      <td>4500000</td>\n",
       "      <td>58853106</td>\n",
       "      <td>Columbia Pictures</td>\n",
       "      <td>104.0</td>\n",
       "    </tr>\n",
       "    <tr>\n",
       "      <th>2</th>\n",
       "      <td>Star Wars: Episode V - The Empire Strikes Back</td>\n",
       "      <td>PG</td>\n",
       "      <td>Action</td>\n",
       "      <td>1980</td>\n",
       "      <td>June 20, 1980 (United States)</td>\n",
       "      <td>8.7</td>\n",
       "      <td>1200000.0</td>\n",
       "      <td>Irvin Kershner</td>\n",
       "      <td>Leigh Brackett</td>\n",
       "      <td>Mark Hamill</td>\n",
       "      <td>United States</td>\n",
       "      <td>18000000</td>\n",
       "      <td>538375067</td>\n",
       "      <td>Lucasfilm</td>\n",
       "      <td>124.0</td>\n",
       "    </tr>\n",
       "    <tr>\n",
       "      <th>3</th>\n",
       "      <td>Airplane!</td>\n",
       "      <td>PG</td>\n",
       "      <td>Comedy</td>\n",
       "      <td>1980</td>\n",
       "      <td>July 2, 1980 (United States)</td>\n",
       "      <td>7.7</td>\n",
       "      <td>221000.0</td>\n",
       "      <td>Jim Abrahams</td>\n",
       "      <td>Jim Abrahams</td>\n",
       "      <td>Robert Hays</td>\n",
       "      <td>United States</td>\n",
       "      <td>3500000</td>\n",
       "      <td>83453539</td>\n",
       "      <td>Paramount Pictures</td>\n",
       "      <td>88.0</td>\n",
       "    </tr>\n",
       "    <tr>\n",
       "      <th>4</th>\n",
       "      <td>Caddyshack</td>\n",
       "      <td>R</td>\n",
       "      <td>Comedy</td>\n",
       "      <td>1980</td>\n",
       "      <td>July 25, 1980 (United States)</td>\n",
       "      <td>7.3</td>\n",
       "      <td>108000.0</td>\n",
       "      <td>Harold Ramis</td>\n",
       "      <td>Brian Doyle-Murray</td>\n",
       "      <td>Chevy Chase</td>\n",
       "      <td>United States</td>\n",
       "      <td>6000000</td>\n",
       "      <td>39846344</td>\n",
       "      <td>Orion Pictures</td>\n",
       "      <td>98.0</td>\n",
       "    </tr>\n",
       "    <tr>\n",
       "      <th>...</th>\n",
       "      <td>...</td>\n",
       "      <td>...</td>\n",
       "      <td>...</td>\n",
       "      <td>...</td>\n",
       "      <td>...</td>\n",
       "      <td>...</td>\n",
       "      <td>...</td>\n",
       "      <td>...</td>\n",
       "      <td>...</td>\n",
       "      <td>...</td>\n",
       "      <td>...</td>\n",
       "      <td>...</td>\n",
       "      <td>...</td>\n",
       "      <td>...</td>\n",
       "      <td>...</td>\n",
       "    </tr>\n",
       "    <tr>\n",
       "      <th>7651</th>\n",
       "      <td>The Call of the Wild</td>\n",
       "      <td>PG</td>\n",
       "      <td>Adventure</td>\n",
       "      <td>2020</td>\n",
       "      <td>February 21, 2020 (United States)</td>\n",
       "      <td>6.8</td>\n",
       "      <td>42000.0</td>\n",
       "      <td>Chris Sanders</td>\n",
       "      <td>Michael Green</td>\n",
       "      <td>Harrison Ford</td>\n",
       "      <td>Canada</td>\n",
       "      <td>135000000</td>\n",
       "      <td>111105497</td>\n",
       "      <td>20th Century Studios</td>\n",
       "      <td>100.0</td>\n",
       "    </tr>\n",
       "    <tr>\n",
       "      <th>7652</th>\n",
       "      <td>The Eight Hundred</td>\n",
       "      <td>Not Rated</td>\n",
       "      <td>Action</td>\n",
       "      <td>2020</td>\n",
       "      <td>August 28, 2020 (United States)</td>\n",
       "      <td>6.8</td>\n",
       "      <td>3700.0</td>\n",
       "      <td>Hu Guan</td>\n",
       "      <td>Hu Guan</td>\n",
       "      <td>Zhi-zhong Huang</td>\n",
       "      <td>China</td>\n",
       "      <td>80000000</td>\n",
       "      <td>461421559</td>\n",
       "      <td>Beijing Diqi Yinxiang Entertainment</td>\n",
       "      <td>149.0</td>\n",
       "    </tr>\n",
       "    <tr>\n",
       "      <th>7653</th>\n",
       "      <td>The Quarry</td>\n",
       "      <td>R</td>\n",
       "      <td>Crime</td>\n",
       "      <td>17,</td>\n",
       "      <td>April 17, 2020 (Mexico)</td>\n",
       "      <td>5.4</td>\n",
       "      <td>2400.0</td>\n",
       "      <td>Scott Teems</td>\n",
       "      <td>Scott Teems</td>\n",
       "      <td>Shea Whigham</td>\n",
       "      <td>United States</td>\n",
       "      <td>35589876</td>\n",
       "      <td>3661</td>\n",
       "      <td>Prowess Pictures</td>\n",
       "      <td>98.0</td>\n",
       "    </tr>\n",
       "    <tr>\n",
       "      <th>7656</th>\n",
       "      <td>Tulsa</td>\n",
       "      <td>PG-13</td>\n",
       "      <td>Comedy</td>\n",
       "      <td>2020</td>\n",
       "      <td>June 3, 2020 (United States)</td>\n",
       "      <td>5.0</td>\n",
       "      <td>294.0</td>\n",
       "      <td>Scott Pryor</td>\n",
       "      <td>Scott Pryor</td>\n",
       "      <td>Scott Pryor</td>\n",
       "      <td>United States</td>\n",
       "      <td>35589876</td>\n",
       "      <td>413378</td>\n",
       "      <td>Pryor Entertainment</td>\n",
       "      <td>120.0</td>\n",
       "    </tr>\n",
       "    <tr>\n",
       "      <th>7659</th>\n",
       "      <td>I Am Fear</td>\n",
       "      <td>Not Rated</td>\n",
       "      <td>Horror</td>\n",
       "      <td>2020</td>\n",
       "      <td>March 3, 2020 (United States)</td>\n",
       "      <td>3.4</td>\n",
       "      <td>447.0</td>\n",
       "      <td>Kevin Shulman</td>\n",
       "      <td>Kevin Shulman</td>\n",
       "      <td>Kristina Klebe</td>\n",
       "      <td>United States</td>\n",
       "      <td>35589876</td>\n",
       "      <td>13266</td>\n",
       "      <td>Roxwell Films</td>\n",
       "      <td>87.0</td>\n",
       "    </tr>\n",
       "  </tbody>\n",
       "</table>\n",
       "<p>7408 rows × 15 columns</p>\n",
       "</div>"
      ],
      "text/plain": [
       "                                                name     rating      genre  \\\n",
       "0                                        The Shining          R      Drama   \n",
       "1                                    The Blue Lagoon          R  Adventure   \n",
       "2     Star Wars: Episode V - The Empire Strikes Back         PG     Action   \n",
       "3                                          Airplane!         PG     Comedy   \n",
       "4                                         Caddyshack          R     Comedy   \n",
       "...                                              ...        ...        ...   \n",
       "7651                            The Call of the Wild         PG  Adventure   \n",
       "7652                               The Eight Hundred  Not Rated     Action   \n",
       "7653                                      The Quarry          R      Crime   \n",
       "7656                                           Tulsa      PG-13     Comedy   \n",
       "7659                                       I Am Fear  Not Rated     Horror   \n",
       "\n",
       "      year                           released  score      votes  \\\n",
       "0     1980      June 13, 1980 (United States)    8.4   927000.0   \n",
       "1     1980       July 2, 1980 (United States)    5.8    65000.0   \n",
       "2     1980      June 20, 1980 (United States)    8.7  1200000.0   \n",
       "3     1980       July 2, 1980 (United States)    7.7   221000.0   \n",
       "4     1980      July 25, 1980 (United States)    7.3   108000.0   \n",
       "...    ...                                ...    ...        ...   \n",
       "7651  2020  February 21, 2020 (United States)    6.8    42000.0   \n",
       "7652  2020    August 28, 2020 (United States)    6.8     3700.0   \n",
       "7653   17,            April 17, 2020 (Mexico)    5.4     2400.0   \n",
       "7656  2020       June 3, 2020 (United States)    5.0      294.0   \n",
       "7659  2020      March 3, 2020 (United States)    3.4      447.0   \n",
       "\n",
       "             director                   writer             star  \\\n",
       "0     Stanley Kubrick             Stephen King   Jack Nicholson   \n",
       "1      Randal Kleiser  Henry De Vere Stacpoole   Brooke Shields   \n",
       "2      Irvin Kershner           Leigh Brackett      Mark Hamill   \n",
       "3        Jim Abrahams             Jim Abrahams      Robert Hays   \n",
       "4        Harold Ramis       Brian Doyle-Murray      Chevy Chase   \n",
       "...               ...                      ...              ...   \n",
       "7651    Chris Sanders            Michael Green    Harrison Ford   \n",
       "7652          Hu Guan                  Hu Guan  Zhi-zhong Huang   \n",
       "7653      Scott Teems              Scott Teems     Shea Whigham   \n",
       "7656      Scott Pryor              Scott Pryor      Scott Pryor   \n",
       "7659    Kevin Shulman            Kevin Shulman   Kristina Klebe   \n",
       "\n",
       "             country     budget      gross  \\\n",
       "0     United Kingdom   19000000   46998772   \n",
       "1      United States    4500000   58853106   \n",
       "2      United States   18000000  538375067   \n",
       "3      United States    3500000   83453539   \n",
       "4      United States    6000000   39846344   \n",
       "...              ...        ...        ...   \n",
       "7651          Canada  135000000  111105497   \n",
       "7652           China   80000000  461421559   \n",
       "7653   United States   35589876       3661   \n",
       "7656   United States   35589876     413378   \n",
       "7659   United States   35589876      13266   \n",
       "\n",
       "                                  company  runtime  \n",
       "0                            Warner Bros.    146.0  \n",
       "1                       Columbia Pictures    104.0  \n",
       "2                               Lucasfilm    124.0  \n",
       "3                      Paramount Pictures     88.0  \n",
       "4                          Orion Pictures     98.0  \n",
       "...                                   ...      ...  \n",
       "7651                 20th Century Studios    100.0  \n",
       "7652  Beijing Diqi Yinxiang Entertainment    149.0  \n",
       "7653                     Prowess Pictures     98.0  \n",
       "7656                  Pryor Entertainment    120.0  \n",
       "7659                        Roxwell Films     87.0  \n",
       "\n",
       "[7408 rows x 15 columns]"
      ]
     },
     "execution_count": 30,
     "metadata": {},
     "output_type": "execute_result"
    }
   ],
   "source": [
    "# Drop any duplicates\n",
    "df.drop_duplicates()\n",
    "df_KNN.drop_duplicates()"
   ]
  },
  {
   "cell_type": "markdown",
   "id": "b00fa23c",
   "metadata": {},
   "source": [
    "&nbsp;\n",
    "\n",
    "## Exploring Correlations in the Data: Linear Functions, Heatmaps, and Significance Analysis\n",
    "\n",
    "\n",
    "It's time to examine correlations. Firstly, I create a graphical linear function to determine if there is any linear correlation in our data. Next, I generate a heatmap illustrating the correlations among our numerical columns. Following that, I convert all columns with object data types into random numbers and proceed to visualize a correlation analysis. Last but not least, I identify which correlations hold significant importance for our data.\n",
    "\n",
    "\n",
    "&nbsp;\n",
    "\n",
    "\n",
    "\n",
    "### 1. Displaying linear correlation\n"
   ]
  },
  {
   "cell_type": "code",
   "execution_count": 31,
   "id": "95ba0cdf",
   "metadata": {},
   "outputs": [],
   "source": [
    "# max rows, scrolling\n",
    "pd.set_option('display.max_rows', None)"
   ]
  },
  {
   "cell_type": "code",
   "execution_count": 32,
   "id": "6d5e5768",
   "metadata": {},
   "outputs": [
    {
     "data": {
      "image/png": "[encoded data removed]",
      "text/plain": [
       "<Figure size 864x576 with 1 Axes>"
      ]
     },
     "metadata": {
      "needs_background": "light"
     },
     "output_type": "display_data"
    }
   ],
   "source": [
    "# Scatter plot comparing budget vs gross\n",
    "\n",
    "plt.scatter(x=df['budget'], y=df['gross'])\n",
    "plt.title('Buget vs Gross Earnings')\n",
    "plt.xlabel('Gross Earnings')\n",
    "plt.ylabel('Budget for film')\n",
    "plt.show()"
   ]
  },
  {
   "cell_type": "code",
   "execution_count": 33,
   "id": "08ead06a",
   "metadata": {
    "scrolled": true
   },
   "outputs": [
    {
     "data": {
      "text/plain": [
       "<AxesSubplot:xlabel='budget', ylabel='gross'>"
      ]
     },
     "execution_count": 33,
     "metadata": {},
     "output_type": "execute_result"
    },
    {
     "data": {
      "image/png": "[encoded data removed]",
      "text/plain": [
       "<Figure size 864x576 with 1 Axes>"
      ]
     },
     "metadata": {
      "needs_background": "light"
     },
     "output_type": "display_data"
    }
   ],
   "source": [
    "# Plot budget vs gross using seaborn\n",
    "sns.regplot(x='budget', y='gross', data=df, scatter_kws={'color': 'red'}, line_kws={'color':'blue'})"
   ]
  },
  {
   "cell_type": "markdown",
   "id": "215fdf40",
   "metadata": {},
   "source": [
    "&nbsp;\n",
    "\n",
    "\n",
    "### 2. Displaying correlation heatmap with numerical data "
   ]
  },
  {
   "cell_type": "code",
   "execution_count": 36,
   "id": "dcf5ed20",
   "metadata": {},
   "outputs": [
    {
     "data": {
      "image/png": "[encoded data removed]",
      "text/plain": [
       "<Figure size 720x576 with 2 Axes>"
      ]
     },
     "metadata": {
      "needs_background": "light"
     },
     "output_type": "display_data"
    }
   ],
   "source": [
    "correlation_matrix = df.corr()\n",
    "\n",
    "plt.figure(figsize=(10, 8))  # Set the figure size\n",
    "sns.heatmap(correlation_matrix, annot=True, cmap=\"coolwarm\", fmt=\".2f\", linewidths=0.5)\n",
    "plt.title(\"Correlation Heatmap\")\n",
    "plt.show()\n"
   ]
  },
  {
   "cell_type": "code",
   "execution_count": 37,
   "id": "b9564bf6",
   "metadata": {},
   "outputs": [
    {
     "data": {
      "image/png": "[encoded data removed]",
      "text/plain": [
       "<Figure size 720x576 with 2 Axes>"
      ]
     },
     "metadata": {
      "needs_background": "light"
     },
     "output_type": "display_data"
    }
   ],
   "source": [
    "correlation_matrix_KNN = df_KNN.corr()\n",
    "\n",
    "plt.figure(figsize=(10, 8))  # Set the figure size\n",
    "sns.heatmap(correlation_matrix_KNN, annot=True, cmap=\"coolwarm\", fmt=\".2f\", linewidths=0.5)\n",
    "plt.title(\"Correlation Heatmap with KNN\")\n",
    "plt.show()"
   ]
  },
  {
   "cell_type": "markdown",
   "id": "f8566bdd",
   "metadata": {},
   "source": [
    "&nbsp;\n",
    "\n",
    "\n",
    "### 3. Transforming Object Data Types"
   ]
  },
  {
   "cell_type": "code",
   "execution_count": 38,
   "id": "ea371139",
   "metadata": {},
   "outputs": [
    {
     "data": {
      "text/html": [
       "<div>\n",
       "<style scoped>\n",
       "    .dataframe tbody tr th:only-of-type {\n",
       "        vertical-align: middle;\n",
       "    }\n",
       "\n",
       "    .dataframe tbody tr th {\n",
       "        vertical-align: top;\n",
       "    }\n",
       "\n",
       "    .dataframe thead th {\n",
       "        text-align: right;\n",
       "    }\n",
       "</style>\n",
       "<table border=\"1\" class=\"dataframe\">\n",
       "  <thead>\n",
       "    <tr style=\"text-align: right;\">\n",
       "      <th></th>\n",
       "      <th>name</th>\n",
       "      <th>rating</th>\n",
       "      <th>genre</th>\n",
       "      <th>year</th>\n",
       "      <th>released</th>\n",
       "      <th>score</th>\n",
       "      <th>votes</th>\n",
       "      <th>director</th>\n",
       "      <th>writer</th>\n",
       "      <th>star</th>\n",
       "      <th>country</th>\n",
       "      <th>budget</th>\n",
       "      <th>gross</th>\n",
       "      <th>company</th>\n",
       "      <th>runtime</th>\n",
       "    </tr>\n",
       "  </thead>\n",
       "  <tbody>\n",
       "    <tr>\n",
       "      <th>0</th>\n",
       "      <td>4690</td>\n",
       "      <td>6</td>\n",
       "      <td>6</td>\n",
       "      <td>11</td>\n",
       "      <td>1304</td>\n",
       "      <td>8.4</td>\n",
       "      <td>927000.0</td>\n",
       "      <td>1795</td>\n",
       "      <td>2832</td>\n",
       "      <td>698</td>\n",
       "      <td>46</td>\n",
       "      <td>19000000</td>\n",
       "      <td>46998772</td>\n",
       "      <td>1426</td>\n",
       "      <td>146.0</td>\n",
       "    </tr>\n",
       "    <tr>\n",
       "      <th>1</th>\n",
       "      <td>3927</td>\n",
       "      <td>6</td>\n",
       "      <td>1</td>\n",
       "      <td>11</td>\n",
       "      <td>1127</td>\n",
       "      <td>5.8</td>\n",
       "      <td>65000.0</td>\n",
       "      <td>1578</td>\n",
       "      <td>1158</td>\n",
       "      <td>214</td>\n",
       "      <td>47</td>\n",
       "      <td>4500000</td>\n",
       "      <td>58853106</td>\n",
       "      <td>452</td>\n",
       "      <td>104.0</td>\n",
       "    </tr>\n",
       "    <tr>\n",
       "      <th>2</th>\n",
       "      <td>3640</td>\n",
       "      <td>4</td>\n",
       "      <td>0</td>\n",
       "      <td>11</td>\n",
       "      <td>1359</td>\n",
       "      <td>8.7</td>\n",
       "      <td>1200000.0</td>\n",
       "      <td>757</td>\n",
       "      <td>1818</td>\n",
       "      <td>1156</td>\n",
       "      <td>47</td>\n",
       "      <td>18000000</td>\n",
       "      <td>538375067</td>\n",
       "      <td>945</td>\n",
       "      <td>124.0</td>\n",
       "    </tr>\n",
       "    <tr>\n",
       "      <th>3</th>\n",
       "      <td>204</td>\n",
       "      <td>4</td>\n",
       "      <td>4</td>\n",
       "      <td>11</td>\n",
       "      <td>1127</td>\n",
       "      <td>7.7</td>\n",
       "      <td>221000.0</td>\n",
       "      <td>889</td>\n",
       "      <td>1413</td>\n",
       "      <td>1473</td>\n",
       "      <td>47</td>\n",
       "      <td>3500000</td>\n",
       "      <td>83453539</td>\n",
       "      <td>1108</td>\n",
       "      <td>88.0</td>\n",
       "    </tr>\n",
       "    <tr>\n",
       "      <th>4</th>\n",
       "      <td>732</td>\n",
       "      <td>6</td>\n",
       "      <td>4</td>\n",
       "      <td>11</td>\n",
       "      <td>1170</td>\n",
       "      <td>7.3</td>\n",
       "      <td>108000.0</td>\n",
       "      <td>719</td>\n",
       "      <td>351</td>\n",
       "      <td>271</td>\n",
       "      <td>47</td>\n",
       "      <td>6000000</td>\n",
       "      <td>39846344</td>\n",
       "      <td>1083</td>\n",
       "      <td>98.0</td>\n",
       "    </tr>\n",
       "  </tbody>\n",
       "</table>\n",
       "</div>"
      ],
      "text/plain": [
       "   name  rating  genre  year  released  score      votes  director  writer  \\\n",
       "0  4690       6      6    11      1304    8.4   927000.0      1795    2832   \n",
       "1  3927       6      1    11      1127    5.8    65000.0      1578    1158   \n",
       "2  3640       4      0    11      1359    8.7  1200000.0       757    1818   \n",
       "3   204       4      4    11      1127    7.7   221000.0       889    1413   \n",
       "4   732       6      4    11      1170    7.3   108000.0       719     351   \n",
       "\n",
       "   star  country    budget      gross  company  runtime  \n",
       "0   698       46  19000000   46998772     1426    146.0  \n",
       "1   214       47   4500000   58853106      452    104.0  \n",
       "2  1156       47  18000000  538375067      945    124.0  \n",
       "3  1473       47   3500000   83453539     1108     88.0  \n",
       "4   271       47   6000000   39846344     1083     98.0  "
      ]
     },
     "execution_count": 38,
     "metadata": {},
     "output_type": "execute_result"
    }
   ],
   "source": [
    "df_numerized = df.copy()\n",
    "\n",
    "for col_name in df_numerized.columns:\n",
    "    if(df_numerized[col_name].dtype=='object'):\n",
    "        df_numerized[col_name]= df_numerized[col_name].astype('category')\n",
    "        df_numerized[col_name]= df_numerized[col_name].cat.codes\n",
    "        \n",
    "df_numerized.head()\n"
   ]
  },
  {
   "cell_type": "code",
   "execution_count": 39,
   "id": "d73e718d",
   "metadata": {},
   "outputs": [
    {
     "data": {
      "text/html": [
       "<div>\n",
       "<style scoped>\n",
       "    .dataframe tbody tr th:only-of-type {\n",
       "        vertical-align: middle;\n",
       "    }\n",
       "\n",
       "    .dataframe tbody tr th {\n",
       "        vertical-align: top;\n",
       "    }\n",
       "\n",
       "    .dataframe thead th {\n",
       "        text-align: right;\n",
       "    }\n",
       "</style>\n",
       "<table border=\"1\" class=\"dataframe\">\n",
       "  <thead>\n",
       "    <tr style=\"text-align: right;\">\n",
       "      <th></th>\n",
       "      <th>name</th>\n",
       "      <th>rating</th>\n",
       "      <th>genre</th>\n",
       "      <th>year</th>\n",
       "      <th>released</th>\n",
       "      <th>score</th>\n",
       "      <th>votes</th>\n",
       "      <th>director</th>\n",
       "      <th>writer</th>\n",
       "      <th>star</th>\n",
       "      <th>country</th>\n",
       "      <th>budget</th>\n",
       "      <th>gross</th>\n",
       "      <th>company</th>\n",
       "      <th>runtime</th>\n",
       "    </tr>\n",
       "  </thead>\n",
       "  <tbody>\n",
       "    <tr>\n",
       "      <th>0</th>\n",
       "      <td>6368</td>\n",
       "      <td>6</td>\n",
       "      <td>6</td>\n",
       "      <td>11</td>\n",
       "      <td>1653</td>\n",
       "      <td>8.4</td>\n",
       "      <td>927000.0</td>\n",
       "      <td>2471</td>\n",
       "      <td>3850</td>\n",
       "      <td>977</td>\n",
       "      <td>52</td>\n",
       "      <td>19000000</td>\n",
       "      <td>46998772</td>\n",
       "      <td>2178</td>\n",
       "      <td>146.0</td>\n",
       "    </tr>\n",
       "    <tr>\n",
       "      <th>1</th>\n",
       "      <td>5370</td>\n",
       "      <td>6</td>\n",
       "      <td>1</td>\n",
       "      <td>11</td>\n",
       "      <td>1445</td>\n",
       "      <td>5.8</td>\n",
       "      <td>65000.0</td>\n",
       "      <td>2169</td>\n",
       "      <td>1563</td>\n",
       "      <td>305</td>\n",
       "      <td>53</td>\n",
       "      <td>4500000</td>\n",
       "      <td>58853106</td>\n",
       "      <td>686</td>\n",
       "      <td>104.0</td>\n",
       "    </tr>\n",
       "    <tr>\n",
       "      <th>2</th>\n",
       "      <td>4954</td>\n",
       "      <td>4</td>\n",
       "      <td>0</td>\n",
       "      <td>11</td>\n",
       "      <td>1717</td>\n",
       "      <td>8.7</td>\n",
       "      <td>1200000.0</td>\n",
       "      <td>1063</td>\n",
       "      <td>2463</td>\n",
       "      <td>1639</td>\n",
       "      <td>53</td>\n",
       "      <td>18000000</td>\n",
       "      <td>538375067</td>\n",
       "      <td>1446</td>\n",
       "      <td>124.0</td>\n",
       "    </tr>\n",
       "    <tr>\n",
       "      <th>3</th>\n",
       "      <td>277</td>\n",
       "      <td>4</td>\n",
       "      <td>4</td>\n",
       "      <td>11</td>\n",
       "      <td>1445</td>\n",
       "      <td>7.7</td>\n",
       "      <td>221000.0</td>\n",
       "      <td>1248</td>\n",
       "      <td>1919</td>\n",
       "      <td>2109</td>\n",
       "      <td>53</td>\n",
       "      <td>3500000</td>\n",
       "      <td>83453539</td>\n",
       "      <td>1697</td>\n",
       "      <td>88.0</td>\n",
       "    </tr>\n",
       "    <tr>\n",
       "      <th>4</th>\n",
       "      <td>993</td>\n",
       "      <td>6</td>\n",
       "      <td>4</td>\n",
       "      <td>11</td>\n",
       "      <td>1494</td>\n",
       "      <td>7.3</td>\n",
       "      <td>108000.0</td>\n",
       "      <td>1010</td>\n",
       "      <td>499</td>\n",
       "      <td>386</td>\n",
       "      <td>53</td>\n",
       "      <td>6000000</td>\n",
       "      <td>39846344</td>\n",
       "      <td>1665</td>\n",
       "      <td>98.0</td>\n",
       "    </tr>\n",
       "  </tbody>\n",
       "</table>\n",
       "</div>"
      ],
      "text/plain": [
       "   name  rating  genre  year  released  score      votes  director  writer  \\\n",
       "0  6368       6      6    11      1653    8.4   927000.0      2471    3850   \n",
       "1  5370       6      1    11      1445    5.8    65000.0      2169    1563   \n",
       "2  4954       4      0    11      1717    8.7  1200000.0      1063    2463   \n",
       "3   277       4      4    11      1445    7.7   221000.0      1248    1919   \n",
       "4   993       6      4    11      1494    7.3   108000.0      1010     499   \n",
       "\n",
       "   star  country    budget      gross  company  runtime  \n",
       "0   977       52  19000000   46998772     2178    146.0  \n",
       "1   305       53   4500000   58853106      686    104.0  \n",
       "2  1639       53  18000000  538375067     1446    124.0  \n",
       "3  2109       53   3500000   83453539     1697     88.0  \n",
       "4   386       53   6000000   39846344     1665     98.0  "
      ]
     },
     "execution_count": 39,
     "metadata": {},
     "output_type": "execute_result"
    }
   ],
   "source": [
    "df_numerized_KNN = df_KNN.copy()\n",
    "\n",
    "for col_name in df_numerized.columns:\n",
    "    if(df_numerized_KNN[col_name].dtype=='object'):\n",
    "        df_numerized_KNN[col_name]= df_numerized_KNN[col_name].astype('category')\n",
    "        df_numerized_KNN[col_name]= df_numerized_KNN[col_name].cat.codes\n",
    "        \n",
    "df_numerized_KNN.head()"
   ]
  },
  {
   "cell_type": "code",
   "execution_count": 40,
   "id": "665f385a",
   "metadata": {},
   "outputs": [
    {
     "data": {
      "text/html": [
       "<div>\n",
       "<style scoped>\n",
       "    .dataframe tbody tr th:only-of-type {\n",
       "        vertical-align: middle;\n",
       "    }\n",
       "\n",
       "    .dataframe tbody tr th {\n",
       "        vertical-align: top;\n",
       "    }\n",
       "\n",
       "    .dataframe thead th {\n",
       "        text-align: right;\n",
       "    }\n",
       "</style>\n",
       "<table border=\"1\" class=\"dataframe\">\n",
       "  <thead>\n",
       "    <tr style=\"text-align: right;\">\n",
       "      <th></th>\n",
       "      <th>name</th>\n",
       "      <th>rating</th>\n",
       "      <th>genre</th>\n",
       "      <th>year</th>\n",
       "      <th>released</th>\n",
       "      <th>score</th>\n",
       "      <th>votes</th>\n",
       "      <th>director</th>\n",
       "      <th>writer</th>\n",
       "      <th>star</th>\n",
       "      <th>country</th>\n",
       "      <th>budget</th>\n",
       "      <th>gross</th>\n",
       "      <th>company</th>\n",
       "      <th>runtime</th>\n",
       "    </tr>\n",
       "  </thead>\n",
       "  <tbody>\n",
       "    <tr>\n",
       "      <th>0</th>\n",
       "      <td>The Shining</td>\n",
       "      <td>R</td>\n",
       "      <td>Drama</td>\n",
       "      <td>1980</td>\n",
       "      <td>June 13, 1980 (United States)</td>\n",
       "      <td>8.4</td>\n",
       "      <td>927000.0</td>\n",
       "      <td>Stanley Kubrick</td>\n",
       "      <td>Stephen King</td>\n",
       "      <td>Jack Nicholson</td>\n",
       "      <td>United Kingdom</td>\n",
       "      <td>19000000</td>\n",
       "      <td>46998772</td>\n",
       "      <td>Warner Bros.</td>\n",
       "      <td>146.0</td>\n",
       "    </tr>\n",
       "    <tr>\n",
       "      <th>1</th>\n",
       "      <td>The Blue Lagoon</td>\n",
       "      <td>R</td>\n",
       "      <td>Adventure</td>\n",
       "      <td>1980</td>\n",
       "      <td>July 2, 1980 (United States)</td>\n",
       "      <td>5.8</td>\n",
       "      <td>65000.0</td>\n",
       "      <td>Randal Kleiser</td>\n",
       "      <td>Henry De Vere Stacpoole</td>\n",
       "      <td>Brooke Shields</td>\n",
       "      <td>United States</td>\n",
       "      <td>4500000</td>\n",
       "      <td>58853106</td>\n",
       "      <td>Columbia Pictures</td>\n",
       "      <td>104.0</td>\n",
       "    </tr>\n",
       "    <tr>\n",
       "      <th>2</th>\n",
       "      <td>Star Wars: Episode V - The Empire Strikes Back</td>\n",
       "      <td>PG</td>\n",
       "      <td>Action</td>\n",
       "      <td>1980</td>\n",
       "      <td>June 20, 1980 (United States)</td>\n",
       "      <td>8.7</td>\n",
       "      <td>1200000.0</td>\n",
       "      <td>Irvin Kershner</td>\n",
       "      <td>Leigh Brackett</td>\n",
       "      <td>Mark Hamill</td>\n",
       "      <td>United States</td>\n",
       "      <td>18000000</td>\n",
       "      <td>538375067</td>\n",
       "      <td>Lucasfilm</td>\n",
       "      <td>124.0</td>\n",
       "    </tr>\n",
       "    <tr>\n",
       "      <th>3</th>\n",
       "      <td>Airplane!</td>\n",
       "      <td>PG</td>\n",
       "      <td>Comedy</td>\n",
       "      <td>1980</td>\n",
       "      <td>July 2, 1980 (United States)</td>\n",
       "      <td>7.7</td>\n",
       "      <td>221000.0</td>\n",
       "      <td>Jim Abrahams</td>\n",
       "      <td>Jim Abrahams</td>\n",
       "      <td>Robert Hays</td>\n",
       "      <td>United States</td>\n",
       "      <td>3500000</td>\n",
       "      <td>83453539</td>\n",
       "      <td>Paramount Pictures</td>\n",
       "      <td>88.0</td>\n",
       "    </tr>\n",
       "    <tr>\n",
       "      <th>4</th>\n",
       "      <td>Caddyshack</td>\n",
       "      <td>R</td>\n",
       "      <td>Comedy</td>\n",
       "      <td>1980</td>\n",
       "      <td>July 25, 1980 (United States)</td>\n",
       "      <td>7.3</td>\n",
       "      <td>108000.0</td>\n",
       "      <td>Harold Ramis</td>\n",
       "      <td>Brian Doyle-Murray</td>\n",
       "      <td>Chevy Chase</td>\n",
       "      <td>United States</td>\n",
       "      <td>6000000</td>\n",
       "      <td>39846344</td>\n",
       "      <td>Orion Pictures</td>\n",
       "      <td>98.0</td>\n",
       "    </tr>\n",
       "  </tbody>\n",
       "</table>\n",
       "</div>"
      ],
      "text/plain": [
       "                                             name rating      genre  year  \\\n",
       "0                                     The Shining      R      Drama  1980   \n",
       "1                                 The Blue Lagoon      R  Adventure  1980   \n",
       "2  Star Wars: Episode V - The Empire Strikes Back     PG     Action  1980   \n",
       "3                                       Airplane!     PG     Comedy  1980   \n",
       "4                                      Caddyshack      R     Comedy  1980   \n",
       "\n",
       "                        released  score      votes         director  \\\n",
       "0  June 13, 1980 (United States)    8.4   927000.0  Stanley Kubrick   \n",
       "1   July 2, 1980 (United States)    5.8    65000.0   Randal Kleiser   \n",
       "2  June 20, 1980 (United States)    8.7  1200000.0   Irvin Kershner   \n",
       "3   July 2, 1980 (United States)    7.7   221000.0     Jim Abrahams   \n",
       "4  July 25, 1980 (United States)    7.3   108000.0     Harold Ramis   \n",
       "\n",
       "                    writer            star         country    budget  \\\n",
       "0             Stephen King  Jack Nicholson  United Kingdom  19000000   \n",
       "1  Henry De Vere Stacpoole  Brooke Shields   United States   4500000   \n",
       "2           Leigh Brackett     Mark Hamill   United States  18000000   \n",
       "3             Jim Abrahams     Robert Hays   United States   3500000   \n",
       "4       Brian Doyle-Murray     Chevy Chase   United States   6000000   \n",
       "\n",
       "       gross             company  runtime  \n",
       "0   46998772        Warner Bros.    146.0  \n",
       "1   58853106   Columbia Pictures    104.0  \n",
       "2  538375067           Lucasfilm    124.0  \n",
       "3   83453539  Paramount Pictures     88.0  \n",
       "4   39846344      Orion Pictures     98.0  "
      ]
     },
     "execution_count": 40,
     "metadata": {},
     "output_type": "execute_result"
    }
   ],
   "source": [
    "df.head()"
   ]
  },
  {
   "cell_type": "markdown",
   "id": "cd0da029",
   "metadata": {},
   "source": [
    "&nbsp;\n",
    "\n",
    "\n",
    "### 4. Visualizing the transformed data in Correlations heatmaps  \n"
   ]
  },
  {
   "cell_type": "code",
   "execution_count": 41,
   "id": "eb665046",
   "metadata": {},
   "outputs": [
    {
     "data": {
      "image/png": "[encoded data removed]",
      "text/plain": [
       "<Figure size 1440x1080 with 2 Axes>"
      ]
     },
     "metadata": {
      "needs_background": "light"
     },
     "output_type": "display_data"
    }
   ],
   "source": [
    "correlation_matrix =df_numerized.corr()\n",
    "\n",
    "plt.figure(figsize=(20, 15))  # Set the figure size\n",
    "sns.heatmap(correlation_matrix, annot=True, cmap=\"coolwarm\", fmt=\".2f\", linewidths=0.5)\n",
    "plt.title(\"Correlation Heatmap\")\n",
    "plt.show()\n"
   ]
  },
  {
   "cell_type": "code",
   "execution_count": 42,
   "id": "0e4ce0fa",
   "metadata": {
    "scrolled": true
   },
   "outputs": [
    {
     "data": {
      "image/png": "[encoded data removed]",
      "text/plain": [
       "<Figure size 1440x1080 with 2 Axes>"
      ]
     },
     "metadata": {
      "needs_background": "light"
     },
     "output_type": "display_data"
    }
   ],
   "source": [
    "correlation_matrix_KNN =df_numerized_KNN.corr()\n",
    "\n",
    "plt.figure(figsize=(20, 15))  # Set the figure size\n",
    "sns.heatmap(correlation_matrix_KNN, annot=True, cmap=\"coolwarm\", fmt=\".2f\", linewidths=0.5)\n",
    "plt.title(\"Correlation Heatmap with KNN\")\n",
    "plt.show()\n"
   ]
  },
  {
   "cell_type": "markdown",
   "id": "f17bed38",
   "metadata": {},
   "source": [
    "&nbsp;\n",
    "\n",
    "### 5. Identifying Significant Correlations"
   ]
  },
  {
   "cell_type": "code",
   "execution_count": 43,
   "id": "e1c718b0",
   "metadata": {},
   "outputs": [
    {
     "data": {
      "text/plain": [
       "name  name        1.000000\n",
       "      rating     -0.029246\n",
       "      genre       0.011012\n",
       "      year        0.014776\n",
       "      released   -0.006244\n",
       "dtype: float64"
      ]
     },
     "execution_count": 43,
     "metadata": {},
     "output_type": "execute_result"
    }
   ],
   "source": [
    "correlation_mat= df_numerized.corr()\n",
    "corr_pairs = correlation_mat.unstack()\n",
    "corr_pairs.head()"
   ]
  },
  {
   "cell_type": "code",
   "execution_count": 44,
   "id": "5c26cf7b",
   "metadata": {},
   "outputs": [
    {
     "data": {
      "text/plain": [
       "name  name        1.000000\n",
       "      rating     -0.010442\n",
       "      genre       0.018116\n",
       "      year        0.002945\n",
       "      released   -0.010226\n",
       "dtype: float64"
      ]
     },
     "execution_count": 44,
     "metadata": {},
     "output_type": "execute_result"
    }
   ],
   "source": [
    "correlation_mat_KNN= df_numerized_KNN.corr()\n",
    "corr_pairs_KNN = correlation_mat_KNN.unstack()\n",
    "corr_pairs_KNN.head()"
   ]
  },
  {
   "cell_type": "code",
   "execution_count": 45,
   "id": "1da9e1b3",
   "metadata": {},
   "outputs": [
    {
     "data": {
      "text/plain": [
       "genre   budget   -0.368860\n",
       "budget  genre    -0.368860\n",
       "genre   gross    -0.244420\n",
       "gross   genre    -0.244420\n",
       "rating  budget   -0.203858\n",
       "dtype: float64"
      ]
     },
     "execution_count": 45,
     "metadata": {},
     "output_type": "execute_result"
    }
   ],
   "source": [
    "sorted_pairs = corr_pairs.sort_values()\n",
    "sorted_pairs_KNN = corr_pairs_KNN.sort_values()\n",
    "sorted_pairs.head()"
   ]
  },
  {
   "cell_type": "code",
   "execution_count": 46,
   "id": "f1a7f182",
   "metadata": {},
   "outputs": [
    {
     "data": {
      "text/plain": [
       "votes   gross     0.614717\n",
       "gross   votes     0.614717\n",
       "        budget    0.740243\n",
       "budget  gross     0.740243\n",
       "dtype: float64"
      ]
     },
     "execution_count": 46,
     "metadata": {},
     "output_type": "execute_result"
    }
   ],
   "source": [
    "# Highest correlation over 0.5 and under 1\n",
    "filtered_pairs = sorted_pairs[(sorted_pairs > 0.50) & (sorted_pairs < 1.0)]\n",
    "filtered_pairs"
   ]
  },
  {
   "cell_type": "code",
   "execution_count": 47,
   "id": "6abff82e",
   "metadata": {},
   "outputs": [
    {
     "data": {
      "text/plain": [
       "votes   gross     0.631084\n",
       "gross   votes     0.631084\n",
       "        budget    0.714627\n",
       "budget  gross     0.714627\n",
       "dtype: float64"
      ]
     },
     "execution_count": 47,
     "metadata": {},
     "output_type": "execute_result"
    }
   ],
   "source": [
    "# Highest correlation over 0.5 and under 1\n",
    "filtered_pairs_KNN = sorted_pairs_KNN[(sorted_pairs_KNN > 0.50) & (sorted_pairs_KNN < 1.0)]\n",
    "filtered_pairs_KNN"
   ]
  },
  {
   "cell_type": "code",
   "execution_count": 48,
   "id": "148e0680",
   "metadata": {},
   "outputs": [
    {
     "data": {
      "text/plain": [
       "genre   budget   -0.368860\n",
       "budget  genre    -0.368860\n",
       "genre   gross    -0.244420\n",
       "gross   genre    -0.244420\n",
       "rating  budget   -0.203858\n",
       "dtype: float64"
      ]
     },
     "execution_count": 48,
     "metadata": {},
     "output_type": "execute_result"
    }
   ],
   "source": [
    "sorted_pairs.head()"
   ]
  },
  {
   "cell_type": "code",
   "execution_count": 49,
   "id": "2dac8e09",
   "metadata": {},
   "outputs": [
    {
     "data": {
      "text/plain": [
       "budget  genre    -0.319483\n",
       "genre   budget   -0.319483\n",
       "        gross    -0.242753\n",
       "gross   genre    -0.242753\n",
       "rating  budget   -0.158198\n",
       "dtype: float64"
      ]
     },
     "execution_count": 49,
     "metadata": {},
     "output_type": "execute_result"
    }
   ],
   "source": [
    "sorted_pairs_KNN.head()"
   ]
  },
  {
   "cell_type": "markdown",
   "id": "13b06ac1",
   "metadata": {},
   "source": [
    "&nbsp;\n",
    "\n",
    "## Results\n",
    "\n",
    "\n",
    "Votes and budget have the highest correlation with gross. These correlations suggest that there is a positive relationship between the success of a movie (measured by its gross revenue) and both the number of votes it receives and its production budget. Specifically, movies tend to earn more if they have more votes or if they were produced with a higher budget. These insights can be valuable for studios and investors in the film industry, as they provide an understanding of the factors that contribute to a movie's financial success."
   ]
  }
 ],
 "metadata": {
  "kernelspec": {
   "display_name": "Python 3 (ipykernel)",
   "language": "python",
   "name": "python3"
  },
  "language_info": {
   "codemirror_mode": {
    "name": "ipython",
    "version": 3
   },
   "file_extension": ".py",
   "mimetype": "text/x-python",
   "name": "python",
   "nbconvert_exporter": "python",
   "pygments_lexer": "ipython3",
   "version": "3.9.7"
  }
 },
 "nbformat": 4,
 "nbformat_minor": 5
}
